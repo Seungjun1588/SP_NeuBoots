{
 "cells": [
  {
   "cell_type": "code",
   "execution_count": 24,
   "metadata": {},
   "outputs": [
    {
     "name": "stdout",
     "output_type": "stream",
     "text": [
      "True\n"
     ]
    }
   ],
   "source": [
    "import argparse\n",
    "\n",
    "from utils.logger import get_logger\n",
    "from utils.arg_parser import Argments\n",
    "from loader.data_loader import GeneralDataLoaderCls, NbsDataLoaderCls,\\\n",
    "                               GeneralDataLoaderSeg, NbsDataLoaderSeg,NbsDataLoaderRgs\n",
    "from runners.cnn_runner import CnnRunner\n",
    "from runners.nbs_runner import NbsRunner\n",
    "from runners.mcd_runner import McdRunner\n",
    "from models.regression import Reg_model\n",
    "import torch\n",
    "import numpy as np\n",
    "from tqdm import tqdm\n",
    "from runners.base_runner import gather_tensor\n",
    "\n",
    "print(torch.cuda.is_available())"
   ]
  },
  {
   "cell_type": "code",
   "execution_count": 25,
   "metadata": {},
   "outputs": [
    {
     "data": {
      "text/plain": [
       "models.regression.Reg_model"
      ]
     },
     "execution_count": 25,
     "metadata": {},
     "output_type": "execute_result"
    }
   ],
   "source": [
    "Reg_model"
   ]
  },
  {
   "cell_type": "code",
   "execution_count": 26,
   "metadata": {},
   "outputs": [],
   "source": [
    "from models.__init__ import _get_model"
   ]
  },
  {
   "cell_type": "code",
   "execution_count": 27,
   "metadata": {},
   "outputs": [],
   "source": [
    "model = _get_model('Reg_model','nbs',1)"
   ]
  },
  {
   "cell_type": "code",
   "execution_count": 28,
   "metadata": {},
   "outputs": [
    {
     "name": "stdout",
     "output_type": "stream",
     "text": [
      "setting the python env\n",
      "cmd_args.local_rank:  -1\n",
      "torch.Size([1000, 1])\n",
      "torch.Size([1000, 1])\n",
      "here1\n",
      "here3\n",
      "here4\n",
      "here2\n"
     ]
    }
   ],
   "source": [
    "argparser = argparse.ArgumentParser()\n",
    "# adding the values\n",
    "argparser.add_argument(\"yaml\")\n",
    "argparser.add_argument(\"--phase\", default=\"train\", type=str) \n",
    "argparser.add_argument(\"--index\", default=-1, type=int) \n",
    "argparser.add_argument(\"--gpus\", default=\"0\", type=str)\n",
    "argparser.add_argument(\"--local_rank\", default=-1, type=int) \n",
    "# save \n",
    "cmd_args = argparser.parse_args([\"example2\"])\n",
    "\n",
    "arg = Argments(f\"scripts/{cmd_args.yaml}.yaml\", cmd_args) # stll many funcs to read\n",
    "setup = arg['setup']\n",
    "model_path = arg['path/model_path']\n",
    "logger = get_logger(f\"{model_path}/log.txt\")\n",
    "\n",
    "if setup['rank'] == 0:\n",
    "    logger.info(arg)\n",
    "\n",
    "model_type = setup['model_type']\n",
    "dataset = arg['path/dataset']\n",
    "is_seg = False\n",
    "\n",
    "if 'nbs' in model_type: # added in n_a (comparing the else loop)\n",
    "        \n",
    "    _data_loader = NbsDataLoaderRgs # n_a exists\n",
    "    data_loader = _data_loader(dataset, setup['batch_size'],\n",
    "                                setup['n_a'], setup['cpus'], setup['seed'])\n",
    "    runner = NbsRunner(data_loader, **arg.module, num_epoch=setup['num_epoch'], # core part \n",
    "                        logger=logger, model_path=model_path, rank=setup['rank'],\n",
    "                        epoch_th=setup['epoch_th'], num_mc=setup['num_mc'],\n",
    "                        adv_training=setup['adv_training'])"
   ]
  },
  {
   "cell_type": "code",
   "execution_count": 29,
   "metadata": {},
   "outputs": [
    {
     "name": "stdout",
     "output_type": "stream",
     "text": [
      "[Test] loss: 1.33468 \n"
     ]
    }
   ],
   "source": [
    "runner.load('best.pth')\n",
    "loader = runner.loader.load('test')\n",
    "if runner.rank == 0:\n",
    "    t_iter = tqdm(loader, total=runner.loader.len)\n",
    "else:\n",
    "    t_iter = loader\n",
    "\n",
    "outputs = []\n",
    "metrics = []\n",
    "inputs = []\n",
    "runner.model.eval()\n",
    "for img, label in t_iter:\n",
    "    _metric, output = runner._valid_a_batch(img, label, with_output=True)\n",
    "    inputs += img.squeeze().tolist()\n",
    "    outputs += output.cpu().mean(0).squeeze().tolist() # gather_tensor(output).cpu().numpy()\n",
    "    metrics += [_metric.cpu().item()] # gather_tensor(_metric).cpu().numpy()\n",
    "# labels = np.concatenate(labels)\n",
    "# outputs = np.concatenate(outputs, axis=1)\n",
    "err = np.mean(metrics[:])\n",
    "# nll, brier = calc_nll_brier_mc(outputs, labels)\n",
    "# print(\"Becarful, the num_class set as 1\")\n",
    "print(f\"[Test] loss: {err:.5f} \")\n",
    "# log += f\"NLL : {nll:.2f}, Brier : {brier:.2f}\"\n"
   ]
  },
  {
   "cell_type": "code",
   "execution_count": 30,
   "metadata": {},
   "outputs": [
    {
     "name": "stdout",
     "output_type": "stream",
     "text": [
      "200\n",
      "200\n"
     ]
    }
   ],
   "source": [
    "print(len(labels))\n",
    "print(len(outputs))"
   ]
  },
  {
   "cell_type": "code",
   "execution_count": 31,
   "metadata": {},
   "outputs": [
    {
     "data": {
      "image/png": "[encoded data removed]",
      "text/plain": [
       "<Figure size 432x288 with 1 Axes>"
      ]
     },
     "metadata": {
      "needs_background": "light"
     },
     "output_type": "display_data"
    }
   ],
   "source": [
    "import matplotlib.pyplot as plt\n",
    "plt.scatter(labels,outputs)\n",
    "plt.show()"
   ]
  },
  {
   "cell_type": "code",
   "execution_count": 32,
   "metadata": {},
   "outputs": [],
   "source": [
    "n_train= 1000\n",
    "n_test = 200\n",
    "\n",
    "train_step =0.004\n",
    "test_step = 0.02\n",
    "start = -2\n",
    "end = -start\n",
    "\n",
    "train_X = torch.arange(start,end,train_step)\n",
    "train_sd = torch.sqrt(train_X**2 + 1e-05)\n",
    "train_y = torch.normal(torch.zeros(train_X.shape[0]),train_sd)\n",
    "\n",
    "test_X = torch.arange(start,end,test_step)\n",
    "test_sd = torch.sqrt(test_X**2 + 1e-05)\n",
    "test_y = torch.normal(torch.zeros(test_X.shape[0]),test_sd)\n",
    "\n",
    "train_X = train_X.unsqueeze(1)\n",
    "train_y = train_y.unsqueeze(1)\n",
    "test_X = test_X.unsqueeze(1)\n",
    "test_y = test_y.unsqueeze(1)\n",
    "\n",
    "# y = torch.normal(torch.zeros(X.shape[0]),sd)\n",
    "# train_idx = torch.randint(0,100,(n_train,))\n",
    "# train_X = X[train_idx].unsqueeze(1)\n",
    "# train_y = y[train_idx].unsqueeze(1)\n",
    "\n",
    "# test_idx = torch.randint(0,100,(n_test,))\n",
    "# test_X = X[test_idx].unsqueeze(1)\n",
    "# test_y = y[test_idx].unsqueeze(1)\n",
    "\n",
    "# normalize\n",
    "train_X = (train_X - train_X.mean())/train_X.std()\n",
    "test_X = (test_X - test_X.mean())/test_X.std()"
   ]
  },
  {
   "cell_type": "code",
   "execution_count": 33,
   "metadata": {},
   "outputs": [
    {
     "name": "stdout",
     "output_type": "stream",
     "text": [
      "tensor(-1.7191)\n",
      "tensor(1.7191)\n"
     ]
    }
   ],
   "source": [
    "print(test_X.min())\n",
    "print(test_X.max())\n"
   ]
  },
  {
   "cell_type": "code",
   "execution_count": 34,
   "metadata": {},
   "outputs": [],
   "source": [
    "import pandas as pd\n",
    "df = pd.DataFrame({\"inputs\":inputs,\"outputs\":outputs})"
   ]
  },
  {
   "cell_type": "code",
   "execution_count": 35,
   "metadata": {},
   "outputs": [
    {
     "name": "stderr",
     "output_type": "stream",
     "text": [
      "c:\\Users\\user\\.conda\\envs\\torch\\lib\\site-packages\\seaborn\\_decorators.py:36: FutureWarning: Pass the following variables as keyword args: x, y. From version 0.12, the only valid positional argument will be `data`, and passing other arguments without an explicit keyword will result in an error or misinterpretation.\n",
      "  warnings.warn(\n"
     ]
    },
    {
     "data": {
      "image/png": "[encoded data removed]",
      "text/plain": [
       "<Figure size 432x288 with 1 Axes>"
      ]
     },
     "metadata": {
      "needs_background": "light"
     },
     "output_type": "display_data"
    }
   ],
   "source": [
    "import seaborn as sns\n",
    "\n",
    "plt.scatter(train_X.squeeze(),train_y.squeeze())\n",
    "sns.regplot(\"inputs\",\"outputs\",data=df,color=\"red\")\n",
    "# plt.scatter(inputs,outputs,color=\"red\")\n",
    "plt.show()"
   ]
  },
  {
   "cell_type": "code",
   "execution_count": null,
   "metadata": {},
   "outputs": [],
   "source": []
  }
 ],
 "metadata": {
  "kernelspec": {
   "display_name": "torch",
   "language": "python",
   "name": "python3"
  },
  "language_info": {
   "codemirror_mode": {
    "name": "ipython",
    "version": 3
   },
   "file_extension": ".py",
   "mimetype": "text/x-python",
   "name": "python",
   "nbconvert_exporter": "python",
   "pygments_lexer": "ipython3",
   "version": "3.9.7"
  },
  "orig_nbformat": 4
 },
 "nbformat": 4,
 "nbformat_minor": 2
}
