{
 "cells": [
  {
   "cell_type": "code",
   "execution_count": 1,
   "metadata": {},
   "outputs": [
    {
     "name": "stdout",
     "output_type": "stream",
     "text": [
      "True\n"
     ]
    }
   ],
   "source": [
    "import argparse\n",
    "\n",
    "from utils.logger import get_logger\n",
    "from utils.arg_parser import Argments\n",
    "from loader.data_loader import GeneralDataLoaderCls, NbsDataLoaderCls,\\\n",
    "                               GeneralDataLoaderSeg, NbsDataLoaderSeg,NbsDataLoaderRgs\n",
    "from runners.cnn_runner import CnnRunner\n",
    "from runners.nbs_runner import NbsRunner\n",
    "from runners.mcd_runner import McdRunner\n",
    "from models.regression import Reg_model\n",
    "import torch\n",
    "import numpy as np\n",
    "from tqdm import tqdm\n",
    "from runners.base_runner import gather_tensor\n",
    "\n",
    "print(torch.cuda.is_available())"
   ]
  },
  {
   "cell_type": "code",
   "execution_count": 2,
   "metadata": {},
   "outputs": [
    {
     "data": {
      "text/plain": [
       "models.regression.Reg_model"
      ]
     },
     "execution_count": 2,
     "metadata": {},
     "output_type": "execute_result"
    }
   ],
   "source": [
    "Reg_model"
   ]
  },
  {
   "cell_type": "code",
   "execution_count": 3,
   "metadata": {},
   "outputs": [],
   "source": [
    "from models.__init__ import _get_model"
   ]
  },
  {
   "cell_type": "code",
   "execution_count": 4,
   "metadata": {},
   "outputs": [],
   "source": [
    "model = _get_model('Reg_model','nbs',1)"
   ]
  },
  {
   "cell_type": "code",
   "execution_count": 5,
   "metadata": {},
   "outputs": [
    {
     "name": "stdout",
     "output_type": "stream",
     "text": [
      "setting the python env\n",
      "cmd_args.local_rank:  -1\n",
      "torch.Size([100000, 100])\n",
      "torch.Size([100000, 1])\n",
      "here1\n",
      "here3\n",
      "here4\n",
      "here2\n"
     ]
    }
   ],
   "source": [
    "argparser = argparse.ArgumentParser()\n",
    "# adding the values\n",
    "argparser.add_argument(\"yaml\")\n",
    "argparser.add_argument(\"--phase\", default=\"train\", type=str) \n",
    "argparser.add_argument(\"--index\", default=-1, type=int) \n",
    "argparser.add_argument(\"--gpus\", default=\"0\", type=str)\n",
    "argparser.add_argument(\"--local_rank\", default=-1, type=int) \n",
    "# save \n",
    "cmd_args = argparser.parse_args([\"example\"])\n",
    "\n",
    "arg = Argments(f\"scripts/{cmd_args.yaml}.yaml\", cmd_args) # stll many funcs to read\n",
    "setup = arg['setup']\n",
    "model_path = arg['path/model_path']\n",
    "logger = get_logger(f\"{model_path}/log.txt\")\n",
    "\n",
    "if setup['rank'] == 0:\n",
    "    logger.info(arg)\n",
    "\n",
    "model_type = setup['model_type']\n",
    "dataset = arg['path/dataset']\n",
    "is_seg = False\n",
    "\n",
    "if 'nbs' in model_type: # added in n_a (comparing the else loop)\n",
    "        \n",
    "    _data_loader = NbsDataLoaderRgs # n_a exists\n",
    "    data_loader = _data_loader(dataset, setup['batch_size'],\n",
    "                                setup['n_a'], setup['cpus'], setup['seed'])\n",
    "    runner = NbsRunner(data_loader, **arg.module, num_epoch=setup['num_epoch'], # core part \n",
    "                        logger=logger, model_path=model_path, rank=setup['rank'],\n",
    "                        epoch_th=setup['epoch_th'], num_mc=setup['num_mc'],\n",
    "                        adv_training=setup['adv_training'])"
   ]
  },
  {
   "cell_type": "code",
   "execution_count": 6,
   "metadata": {},
   "outputs": [
    {
     "name": "stdout",
     "output_type": "stream",
     "text": [
      "[Test] loss: 0.53506 \n"
     ]
    }
   ],
   "source": [
    "runner.load('best.pth')\n",
    "loader = runner.loader.load('test')\n",
    "if runner.rank == 0:\n",
    "    t_iter = tqdm(loader, total=runner.loader.len)\n",
    "else:\n",
    "    t_iter = loader\n",
    "\n",
    "outputs = []\n",
    "labels = []\n",
    "metrics = []\n",
    "runner.model.eval()\n",
    "for img, label in t_iter:\n",
    "    _metric, output = runner._valid_a_batch(img, label, with_output=True)\n",
    "    labels += label.cpu().squeeze().tolist()\n",
    "    outputs += output.cpu().mean(0).squeeze().tolist() # gather_tensor(output).cpu().numpy()\n",
    "    metrics += [_metric.cpu().item()] # gather_tensor(_metric).cpu().numpy()\n",
    "# labels = np.concatenate(labels)\n",
    "# outputs = np.concatenate(outputs, axis=1)\n",
    "err = np.mean(metrics[:])\n",
    "# nll, brier = calc_nll_brier_mc(outputs, labels)\n",
    "# print(\"Becarful, the num_class set as 1\")\n",
    "print(f\"[Test] loss: {err:.5f} \")\n",
    "# log += f\"NLL : {nll:.2f}, Brier : {brier:.2f}\"\n"
   ]
  },
  {
   "cell_type": "code",
   "execution_count": 7,
   "metadata": {},
   "outputs": [
    {
     "data": {
      "image/png": "[encoded data removed]",
      "text/plain": [
       "<Figure size 432x288 with 1 Axes>"
      ]
     },
     "metadata": {
      "needs_background": "light"
     },
     "output_type": "display_data"
    }
   ],
   "source": [
    "import matplotlib.pyplot as plt\n",
    "plt.plot([-50,50],[-50,50],color=\"red\")\n",
    "plt.scatter(labels,outputs)\n",
    "plt.xlabel(\"true Y\")\n",
    "plt.ylabel(\"pred Y\")\n",
    "plt.show()"
   ]
  },
  {
   "cell_type": "code",
   "execution_count": 8,
   "metadata": {},
   "outputs": [
    {
     "data": {
      "image/png": "[encoded data removed]",
      "text/plain": [
       "<Figure size 432x288 with 1 Axes>"
      ]
     },
     "metadata": {
      "needs_background": "light"
     },
     "output_type": "display_data"
    }
   ],
   "source": [
    "import pandas as pd\n",
    "import seaborn as sns\n",
    "df = pd.DataFrame({\"labels\":labels,\"outputs\":outputs})\n",
    "sns.regplot(x=\"labels\",y=\"outputs\",data=df,color=\"r\",x_ci=\"ci\",\n",
    "            scatter_kws={\"fc\":\"b\", \"ec\":\"b\", \"s\":25, \"alpha\":0.3},\n",
    "              line_kws={\"lw\":3, \"ls\":\"--\",\"alpha\":0.1})\n",
    "plt.show()\n"
   ]
  },
  {
   "cell_type": "code",
   "execution_count": null,
   "metadata": {},
   "outputs": [],
   "source": []
  }
 ],
 "metadata": {
  "kernelspec": {
   "display_name": "torch",
   "language": "python",
   "name": "python3"
  },
  "language_info": {
   "codemirror_mode": {
    "name": "ipython",
    "version": 3
   },
   "file_extension": ".py",
   "mimetype": "text/x-python",
   "name": "python",
   "nbconvert_exporter": "python",
   "pygments_lexer": "ipython3",
   "version": "3.9.7"
  },
  "orig_nbformat": 4
 },
 "nbformat": 4,
 "nbformat_minor": 2
}
